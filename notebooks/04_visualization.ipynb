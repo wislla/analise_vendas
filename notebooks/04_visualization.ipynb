{
 "cells": [
  {
   "cell_type": "code",
   "execution_count": null,
   "metadata": {},
   "outputs": [],
   "source": [
    "# Data Visualization\n",
    "\n",
    "Este notebook gera visualizações de dados detalhadas para insights mais profundos.\n",
    "\n",
    "```python\n",
    "import pandas as pd\n",
    "import matplotlib.pyplot as plt\n",
    "import seaborn as sns\n",
    "\n",
    "# Carregar os dados limpos\n",
    "df = pd.read_csv('../data/cleaned_sales_data.csv')\n",
    "\n",
    "# Plotar vendas ao longo do tempo\n",
    "df['Date'] = pd.to_datetime(df['Date'])\n",
    "df.set_index('Date', inplace=True)\n",
    "df.resample('M')['Sales'].sum().plot()\n",
    "plt.title('Total Sales Over Time')\n",
    "plt.ylabel('Sales')\n",
    "plt.xlabel('Date')\n",
    "plt.show()\n",
    "\n",
    "# Plotar vendas por categoria\n",
    "sns.barplot(x='Category', y='Sales', data=df)\n",
    "plt.title('Sales by Category')\n",
    "plt.ylabel('Sales')\n",
    "plt.xlabel('Category')\n",
    "plt.show()\n"
   ]
  }
 ],
 "metadata": {
  "language_info": {
   "name": "python"
  }
 },
 "nbformat": 4,
 "nbformat_minor": 2
}
