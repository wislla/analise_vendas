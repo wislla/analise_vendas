{
 "cells": [
  {
   "cell_type": "code",
   "execution_count": null,
   "metadata": {},
   "outputs": [],
   "source": [
    "import pandas as pd\n",
    "import matplotlib.pyplot as plt\n",
    "import seaborn as sns\n",
    "\n",
    "# Carregar os dados limpos\n",
    "df = pd.read_csv('../data/cleaned_sales_data.csv')\n",
    "\n",
    "# Mostrar as primeiras linhas do dataframe\n",
    "df.head()\n",
    "\n",
    "# Descrever o dataframe\n",
    "df.describe()\n",
    "\n",
    "# Análise de colunas específicas\n",
    "sns.histplot(df['Sales'])\n",
    "plt.show()\n",
    "\n",
    "sns.boxplot(x='Category', y='Sales', data=df)\n",
    "plt.show()\n",
    "\n",
    "# Correlação entre as variáveis\n",
    "corr = df.corr()\n",
    "sns.heatmap(corr, annot=True, cmap='coolwarm')\n",
    "plt.show()\n"
   ]
  }
 ],
 "metadata": {
  "language_info": {
   "name": "python"
  }
 },
 "nbformat": 4,
 "nbformat_minor": 2
}
