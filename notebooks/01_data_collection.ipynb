{
 "cells": [
  {
   "cell_type": "code",
   "execution_count": null,
   "metadata": {},
   "outputs": [],
   "source": [
    "# Data Collection\n",
    "\n",
    "Este notebook coleta os dados de vendas para análise. Pode incluir importação de dados de várias fontes como CSV, APIs, bancos de dados, etc.\n",
    "\n",
    "```python\n",
    "import pandas as pd\n",
    "\n",
    "# Caminho para o arquivo CSV\n",
    "file_path = '../data/sales_data.csv'\n",
    "\n",
    "# Carregar os dados\n",
    "df = pd.read_csv(file_path)\n",
    "\n",
    "# Exibir as primeiras linhas do dataframe\n",
    "df.head()\n"
   ]
  }
 ],
 "metadata": {
  "language_info": {
   "name": "python"
  }
 },
 "nbformat": 4,
 "nbformat_minor": 2
}
