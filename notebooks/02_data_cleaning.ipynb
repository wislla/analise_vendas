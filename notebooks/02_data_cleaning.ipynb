{
 "cells": [
  {
   "cell_type": "code",
   "execution_count": null,
   "metadata": {},
   "outputs": [],
   "source": [
    "# Data Cleaning\n",
    "\n",
    "Este notebook lida com a limpeza dos dados para garantir que estão prontos para análise.\n",
    "\n",
    "```python\n",
    "import pandas as pd\n",
    "\n",
    "# Carregar os dados\n",
    "df = pd.read_csv('../data/sales_data.csv')\n",
    "\n",
    "# Exibir as primeiras linhas do dataframe\n",
    "df.head()\n",
    "\n",
    "# Remover colunas desnecessárias\n",
    "df = df.drop(columns=['UnnecessaryColumn1', 'UnnecessaryColumn2'])\n",
    "\n",
    "# Tratar valores ausentes\n",
    "df = df.dropna(subset=['ImportantColumn'])\n",
    "\n",
    "# Converter tipos de dados\n",
    "df['Date'] = pd.to_datetime(df['Date'])\n",
    "\n",
    "# Salvar os dados limpos\n",
    "df.to_csv('../data/cleaned_sales_data.csv', index=False)\n"
   ]
  }
 ],
 "metadata": {
  "language_info": {
   "name": "python"
  }
 },
 "nbformat": 4,
 "nbformat_minor": 2
}
