{
 "cells": [
  {
   "cell_type": "code",
   "execution_count": null,
   "metadata": {},
   "outputs": [],
   "source": [
    "# Reporting\n",
    "\n",
    "Este notebook gera relatórios com base nos dados analisados e nos modelos criados.\n",
    "\n",
    "```python\n",
    "import pandas as pd\n",
    "import matplotlib.pyplot as plt\n",
    "import seaborn as sns\n",
    "\n",
    "# Carregar os dados limpos\n",
    "df = pd.read_csv('../data/cleaned_sales_data.csv')\n",
    "\n",
    "# Exibir relatório resumido\n",
    "summary = df.describe()\n",
    "print(summary)\n",
    "\n",
    "# Plotar resumo gráfico\n",
    "sns.pairplot(df)\n",
    "plt.show()\n",
    "\n",
    "# Outros relatórios e gráficos conforme necessário\n"
   ]
  }
 ],
 "metadata": {
  "language_info": {
   "name": "python"
  }
 },
 "nbformat": 4,
 "nbformat_minor": 2
}
